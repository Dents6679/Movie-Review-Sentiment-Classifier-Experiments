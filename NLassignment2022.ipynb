{
  "cells": [
    {
      "cell_type": "markdown",
      "metadata": {
        "id": "f2S8I2ny-ovS"
      },
      "source": [
        "# NLE Assignment: Sentiment Classification\n",
        "\n",
        "In this assignment, you will be investigating NLP methods for distinguishing positive and negative reviews written about movies.\n",
        "\n",
        "For assessment, you are expected to complete and submit this notebook file.  When answers require code, you may import and use library functions (unless explicitly told otherwise).  All of your own code should be included in the notebook rather than imported from elsewhere.  Written answers should also be included in the notebook.  You should insert as many extra cells as you want and change the type between code and markdown as appropriate.\n",
        "\n",
        "In order to avoid misconduct, you should not talk about the assignment questions with your peers.  If you are not sure what a question is asking you to do or have any other questions, please ask me or one of the Teaching Assistants.\n",
        "\n",
        "Marking guidelines are provided as a separate document.\n",
        "\n",
        "The first few cells contain code to set-up the assignment and bring in some data.   In order to provide unique datasets for analysis by different students, you must enter your candidate number in the following cell.  Otherwise do not change the code in these cells."
      ]
    },
    {
      "cell_type": "code",
      "execution_count": 36,
      "metadata": {
        "id": "1gXQAZas-l9c"
      },
      "outputs": [],
      "source": [
        "candidateno=246518 #this MUST be updated to your candidate number so that you get a unique data sample\n"
      ]
    },
    {
      "cell_type": "code",
      "execution_count": 37,
      "metadata": {
        "id": "nk8JTP88A8vs",
        "colab": {
          "base_uri": "https://localhost:8080/"
        },
        "outputId": "2abf15c8-b7e2-4297-f0f0-07d495b13f36"
      },
      "outputs": [
        {
          "output_type": "stream",
          "name": "stderr",
          "text": [
            "[nltk_data] Downloading package punkt to /root/nltk_data...\n",
            "[nltk_data]   Package punkt is already up-to-date!\n",
            "[nltk_data] Downloading package stopwords to /root/nltk_data...\n",
            "[nltk_data]   Package stopwords is already up-to-date!\n",
            "[nltk_data] Downloading package movie_reviews to /root/nltk_data...\n",
            "[nltk_data]   Package movie_reviews is already up-to-date!\n"
          ]
        }
      ],
      "source": [
        "#do not change the code in this cell\n",
        "#preliminary imports\n",
        "\n",
        "#set up nltk\n",
        "import nltk\n",
        "nltk.download('punkt')\n",
        "nltk.download('stopwords')\n",
        "nltk.download('movie_reviews')\n",
        "from nltk.corpus import stopwords\n",
        "from nltk.tokenize import word_tokenize\n",
        "from nltk.corpus import movie_reviews\n",
        "\n",
        "#for setting up training and testing data\n",
        "import random\n",
        "\n",
        "#useful other tools\n",
        "import re\n",
        "import pandas as pd\n",
        "import matplotlib.pyplot as plt\n",
        "%matplotlib inline\n",
        "from itertools import zip_longest\n",
        "from nltk.probability import FreqDist\n",
        "from nltk.classify.api import ClassifierI\n"
      ]
    },
    {
      "cell_type": "code",
      "execution_count": 38,
      "metadata": {
        "id": "BHBkzAccCVaZ"
      },
      "outputs": [],
      "source": [
        "#do not change the code in this cell\n",
        "def split_data(data, ratio=0.7): # when the second argument is not given, it defaults to 0.7\n",
        "    \"\"\"\n",
        "    Given corpus generator and ratio:\n",
        "     - partitions the corpus into training data and test data, where the proportion in train is ratio,\n",
        "\n",
        "    :param data: A corpus generator.\n",
        "    :param ratio: The proportion of training documents (default 0.7)\n",
        "    :return: a pair (tuple) of lists where the first element of the \n",
        "            pair is a list of the training data and the second is a list of the test data.\n",
        "    \"\"\"\n",
        "    \n",
        "    data = list(data)  \n",
        "    n = len(data)  \n",
        "    train_indices = random.sample(range(n), int(n * ratio))          \n",
        "    test_indices = list(set(range(n)) - set(train_indices))    \n",
        "    train = [data[i] for i in train_indices]           \n",
        "    test = [data[i] for i in test_indices]             \n",
        "    return (train, test)                       \n",
        " \n",
        "\n",
        "def get_train_test_data():\n",
        "    \n",
        "    #get ids of positive and negative movie reviews\n",
        "    pos_review_ids=movie_reviews.fileids('pos')\n",
        "    neg_review_ids=movie_reviews.fileids('neg')\n",
        "   \n",
        "    #split positive and negative data into training and testing sets\n",
        "    pos_train_ids, pos_test_ids = split_data(pos_review_ids)\n",
        "    neg_train_ids, neg_test_ids = split_data(neg_review_ids)\n",
        "    #add labels to the data and concatenate\n",
        "    training = [(movie_reviews.words(f),'pos') for f in pos_train_ids]+[(movie_reviews.words(f),'neg') for f in neg_train_ids]\n",
        "    testing = [(movie_reviews.words(f),'pos') for f in pos_test_ids]+[(movie_reviews.words(f),'neg') for f in neg_test_ids]\n",
        "   \n",
        "    return training, testing"
      ]
    },
    {
      "cell_type": "markdown",
      "metadata": {
        "id": "1N3LWwBYICPP"
      },
      "source": [
        "When you have run the cell below, your unique training and testing samples will be stored in `training_data` and `testing_data`"
      ]
    },
    {
      "cell_type": "code",
      "execution_count": 39,
      "metadata": {
        "id": "HJLegkdPFUJA",
        "colab": {
          "base_uri": "https://localhost:8080/"
        },
        "outputId": "220a29f7-fc82-405e-f459-25b293e81ca8"
      },
      "outputs": [
        {
          "output_type": "stream",
          "name": "stdout",
          "text": [
            "The amount of training data is 1400\n",
            "The amount of testing data is 600\n",
            "The representation of a single data item is below\n",
            "(['getting', 'it', 'right', 'is', 'a', 'far', 'far', ...], 'pos')\n"
          ]
        }
      ],
      "source": [
        "#do not change the code in this cell\n",
        "random.seed(candidateno)\n",
        "training_data,testing_data=get_train_test_data()\n",
        "print(\"The amount of training data is {}\".format(len(training_data)))\n",
        "print(\"The amount of testing data is {}\".format(len(testing_data)))\n",
        "print(\"The representation of a single data item is below\")\n",
        "print(training_data[0])"
      ]
    },
    {
      "cell_type": "markdown",
      "metadata": {
        "id": "VE3bKQbB50Rq"
      },
      "source": [
        "\n",
        "1)  \n",
        "a) **Generate** a list of 10 content words which are representative of the positive reviews in your training data.\n",
        "\n",
        "b) **Generate** a list of 10 content words which are representative of the negative reviews in your training data.\n",
        "\n",
        "c) **Explain** what you have done and why\n",
        "\n",
        "[20\\%]"
      ]
    },
    {
      "cell_type": "code",
      "execution_count": 40,
      "metadata": {
        "id": "GQBi7JVR50Rr",
        "colab": {
          "base_uri": "https://localhost:8080/"
        },
        "outputId": "92354c6b-2929-4541-b31f-af98c47a083d"
      },
      "outputs": [
        {
          "output_type": "stream",
          "name": "stdout",
          "text": [
            "Top 10 Positive Words: ['film', 'also', 'life', 'well', 'story', 'one', 'best', 'many', 'great', 'world']\n",
            "Top 10 Negative Words: ['movie', 'bad', 'plot', 'worst', 'script', 'stupid', 'boring', 'supposed', 'action', 'nothing']\n"
          ]
        }
      ],
      "source": [
        "\n",
        "# ------- Preperation -------\n",
        "\n",
        "training_list=[(list(wordlist),label) for (wordlist,label) in training_data] ## Putting wordlists list form instead of streamedbackcorpusview.\n",
        "testing_list=[(list(wordlist),label) for (wordlist,label) in testing_data]  ## Same thing here ^\n",
        "stop = stopwords.words('english') #fetching stopwords\n",
        "\n",
        "\n",
        "# ------- Normalisation -------\n",
        "\n",
        "def normalise(wordlist):\n",
        "  \n",
        "  lowered=[word.lower() for word in wordlist] #lowing words\n",
        "  nostop= [word for word in lowered if word.isalpha() and word not in stop] #remove stopwords\n",
        "  return nostop\n",
        "  \n",
        "\n",
        "training_norm=[(FreqDist(normalise(wordlist)),label) for (wordlist,label) in training_data]\n",
        "testing_norm=[(FreqDist(normalise(wordlist)),label) for (wordlist,label) in testing_data]\n",
        "\n",
        "\n",
        "# ------- Conversion to FreqDists -------\n",
        "\n",
        "pos_freq_dist=FreqDist() #Frequency distribution of words in positive\n",
        "neg_freq_dist=FreqDist() #Frequency distribution of words in negative review\n",
        "\n",
        "for reviewDist,label in training_norm:\n",
        "    if label=='pos':\n",
        "        pos_freq_dist+=reviewDist\n",
        "    else:\n",
        "        neg_freq_dist+=reviewDist\n",
        "        \n",
        "# ------- Top words Fetcher -------\n",
        "\n",
        "#fetching the difference betwen the most positive and most negative words (removes shared words and shows unique ones to each set.)\n",
        "def most_frequent_words(freq1,freq2,max):\n",
        "    difference=freq1-freq2\n",
        "    sorteddiff=difference.most_common()\n",
        "    words = [word for (word,freq) in sorteddiff[:max]]\n",
        "    return words\n",
        "\n",
        "positive_long_list = most_frequent_words(pos_freq_dist,neg_freq_dist,500) ##longer lists for future use in Q5\n",
        "negative_long_list = most_frequent_words(neg_freq_dist,pos_freq_dist,500) \n",
        "\n",
        "\n",
        "print(\"Top 10 Positive Words:\", positive_long_list[:10])\n",
        "print(\"Top 10 Negative Words:\", negative_long_list[:10])"
      ]
    },
    {
      "cell_type": "markdown",
      "metadata": {
        "id": "Zljze_ZJ50Rt"
      },
      "source": [
        "\n",
        "---\n",
        "##<b><u>Part A</u></b>\n",
        "<b>Positive words:</b>   \n",
        "film, also, life, well, story, one, best, many, great, world\n",
        "\n",
        "---\n",
        "##<b><u>Part B</u></b>\n",
        "<b>Negative words:</b>\n",
        "\n",
        "movie, bad, plot, worst, script, stupid, boring, supposed, action, nothing\n",
        "\n",
        "---\n",
        "##<b><u>Part C</u></b>\n",
        "Within the above code cell, I have written code which gives two lists of 10 content words which are representative of the positive and negative reviews within the training data provided.\n",
        "\n",
        "I have split this code cell into a couple of separate 'stages' for increased readability and ease of explanation.\n",
        "\n",
        "###<u>Preparation</u>\n",
        "\n",
        "The training data provided is in a format which I find difficult to work with.\n",
        "I prefer to work with `list` items rather than `StreamBackedCorpusView` as I am more confident with the former and find list items easier to use during troubleshooting. \n",
        " \n",
        "<br>\n",
        "\n",
        "Because of this, I converted training_data and testing_data:\n",
        "\n",
        "from:\n",
        "\n",
        ">List of Tuples of (StreamBackedCorpusView, String)\n",
        "\n",
        "To:\n",
        "\n",
        "> List of Tuples of (List of Strings, String)\n",
        "\n",
        "This was done using a simple comprehension.\n",
        "\n",
        "After this, I imported a list of pre-defined stopwords from NLTK to use in my normalisation function.\n",
        "\n",
        "<br>\n",
        "\n",
        "###<u>Normalisation</u>\n",
        "\n",
        "I've written a function which normalises a list of string tokens.\n",
        "The function does this by iterating through, and applying a couple of steps to each word in a document.\n",
        "\n",
        "The steps are as follows:\n",
        "- Convert every word to lowercase, this eliminates differently-cased \n",
        "duplicates within Frequency Distributions, as FreqDist keys are case sensitive.\n",
        "- Remove any tokens that aren't fully alphabetic as they have no semantic value for classifying if a review is positive or negative.\n",
        "- Remove any words which are found in the set of stopwords I imported beforehand, as stopwords do not have any semantic value either.\n",
        "\n",
        "\n",
        "After this, I normalised all of the training data and testing data into two new lists called `training_norm` and `testing_norm` for future use.\n",
        "\n",
        "###<u>Conversion to Freq Dists</u>\n",
        "\n",
        "Next, I fed my training document list into two Frequency Distributions, one for documents labelled as positive sentiment (which show the most common positive words), and one for documents labelled as negative sentiment (which shows the most common negative words). \n",
        "\n",
        "\n",
        "I could've stopped here, but noticed that many of the top words between the two distributions were identical.\n",
        "\n",
        "\n",
        "\n",
        "###<u>Fetching top words</u> \n",
        "\n",
        "To fix this, I wrote a function `most_frequent_words` which takes two frequency distributions and an additional number. \n",
        "\n",
        "\n",
        "The function subtracts the words of `Freq2` from `Freq1` to give the most distinct and 'most telling' words of the Freq1 class.  \n",
        "These new 'most telling' word lists are suitable enough to classify documents with.\n",
        "\n",
        "The function also takes a number `max` lets us take the top n words from this word list.\n",
        "\n",
        "<br>\n",
        "\n",
        "I use this function twice to create two sorted lists (by word frequency) of the top 500 words indicating positive and negative sentiment respectively. \n",
        "The large list size is a future proofing measure for Question 5 to stop this function from running every time a wordlist of a new size is needed.\n",
        "\n",
        "For parts A and B, I returned the first 10 words from the large list.\n",
        "\n",
        " ---"
      ]
    },
    {
      "cell_type": "markdown",
      "metadata": {
        "id": "TApOQE6vND20"
      },
      "source": [
        "2) \n",
        "a) **Use** the lists generated in Q1 to build a **word list classifier** which will classify reviews as being positive or negative.\n",
        "\n",
        "b) **Explain** what you have done.\n",
        "\n",
        "[12.5\\%]\n"
      ]
    },
    {
      "cell_type": "code",
      "execution_count": 41,
      "metadata": {
        "id": "BThDMrcmODJy"
      },
      "outputs": [],
      "source": [
        "import random\n",
        "\n",
        "\n",
        "def classify(document,pos_word_list,neg_word_list, offset):\n",
        " sentiment = 0                          #sentiment: negative for negative, positive for positive.\n",
        " for word in document:\n",
        "   if word in pos_word_list:\n",
        "     sentiment += 1\n",
        "   if word in neg_word_list:\n",
        "     sentiment -= 1\n",
        "\n",
        " if sentiment > offset:\n",
        "    return \"pos\"\n",
        " if sentiment < offset:\n",
        "   return \"neg\"\n",
        " elif sentiment == offset:\n",
        "   return random.choice(['pos','neg']) #This can create some randomness within the classifier, might be a problem with Q5.    "
      ]
    },
    {
      "cell_type": "markdown",
      "metadata": {
        "id": "B6xxvcyr50Rv"
      },
      "source": [
        "---\n",
        "Within the above code block, I have created a function which classifies if an inputted document has a positive or negative sentiment to it. The Function takes four parameters:\n",
        "- `document`: the document being classified.\n",
        "- `pos_word_list`: a word list of positive words.\n",
        "- `neg_word_list`: a word list of negative words. \n",
        "- `offset`: a number which can move the threshold which the classifier uses for classifying reviews as positive or negative. (Higher means it's more strict on positive, Lower means more strict on negative.)\n",
        "\n",
        "<br>\n",
        "\n",
        "The provided document gets a 'sentiment' score, which the classifier uses to decide if it is positive or negative. This sentiment score starts at zero.\n",
        "\n",
        "\n",
        "Using a for loop, the classifier iterates through every word in a document. Each word is checked against the positive word list and negative word list provided.\n",
        "\n",
        "If the word occurs in the positive word list, `sentiment` is incremented.\n",
        "\n",
        "If the word occurs in the negative word list, `sentiment` is decremented.\n",
        "\n",
        "If the word occurs in neither word lists, `sentiment` is unchanged.\n",
        "\n",
        "Once every word within the document has been iterated through, the function checks the sentiment score.\n",
        "\n",
        "`'pos'` is returned if `sentiment` is greater than `offset`.\n",
        "\n",
        "`'neg'` is returned if  `sentiment` is less than `offset`.\n",
        "\n",
        "A random choice between `'pos'` and `'neg'` is returned if `sentiment` is equal to `offset`.\n",
        "\n",
        "\n",
        "\n",
        "\n",
        "---"
      ]
    },
    {
      "cell_type": "markdown",
      "metadata": {
        "id": "dL1iL9jg50Rv"
      },
      "source": [
        "3)\n",
        "a) **Calculate** the accuracy, precision, recall and F1 score of your classifier.\n",
        "\n",
        "b) Is it reasonable to evaluate the classifier in terms of its accuracy?  **Explain** your answer and give a counter-example (a scenario where it would / would not be reasonable to evaluate the classifier in terms of its accuracy).\n",
        "\n",
        "[20\\%]"
      ]
    },
    {
      "cell_type": "code",
      "execution_count": 42,
      "metadata": {
        "id": "r1PrZnTe50Rw",
        "colab": {
          "base_uri": "https://localhost:8080/"
        },
        "outputId": "52ec747c-cf47-4ebd-ae8c-afb6e0b2f24a"
      },
      "outputs": [
        {
          "output_type": "stream",
          "name": "stdout",
          "text": [
            "True Positives: 278\n",
            "True Negatives: 74\n",
            "False Positives: 226\n",
            "False Negatives: 22\n"
          ]
        }
      ],
      "source": [
        "## returns list of 4 ints, [True positive, True Negative, False Positive, False Negative]\n",
        "def get_stats(data_to_be_classified, word_classifier_list_length, offset):\n",
        "  i = 0\n",
        "  TP = 0\n",
        "  TN = 0\n",
        "  FP = 0\n",
        "  FN = 0\n",
        "  for (document,label) in data_to_be_classified:\n",
        "   \n",
        "    prediction = classify(document, positive_long_list[:word_classifier_list_length], negative_long_list[:word_classifier_list_length], offset) # i hope this works first try\n",
        "    actual = label\n",
        " \n",
        "    if prediction == 'pos' and actual == 'pos':\n",
        "      TP += 1\n",
        "    if prediction == 'neg' and actual == 'neg':\n",
        "      TN += 1\n",
        "    if prediction == 'neg' and actual == 'pos':\n",
        "      FN += 1\n",
        "    if prediction == 'pos' and actual == 'neg':\n",
        "      FP += 1\n",
        "  return [TP,TN,FP,FN]\n",
        "\n",
        "\n",
        "top_10_results = get_stats(testing_data,10,0)\n",
        "\n",
        "\n",
        "print(\"\"\"True Positives: {}\n",
        "True Negatives: {}\n",
        "False Positives: {}\n",
        "False Negatives: {}\"\"\".format(top_10_results[0],top_10_results[1],top_10_results[2],top_10_results[3]))"
      ]
    },
    {
      "cell_type": "code",
      "execution_count": 43,
      "metadata": {
        "id": "Uq4Fmr8S50Rx",
        "colab": {
          "base_uri": "https://localhost:8080/"
        },
        "outputId": "677cfada-80a3-4e55-9e30-e6c5ccd8de50"
      },
      "outputs": [
        {
          "output_type": "execute_result",
          "data": {
            "text/plain": [
              "{'Accuracy': 0.587, 'Precision': 0.552, 'Recall': 0.927, 'F1': 0.692}"
            ]
          },
          "metadata": {},
          "execution_count": 43
        }
      ],
      "source": [
        "#---- result parameter for these functions is the[TP, TN, FP, FN] output list from get_stats() ----\n",
        "\n",
        "def as_accuracy(results):\n",
        " tp = results[0] #variable names for easier readability\n",
        " tn = results[1]\n",
        " fp = results[2]\n",
        " fn = results[3]\n",
        " return round((tp+tn)/(tp+tn+fp+fn),3)\n",
        "\n",
        "\n",
        "def as_precision(results):\n",
        " tp = results[0] #variable names for easier readability\n",
        " tn = results[1]\n",
        " fp = results[2]\n",
        " fn = results[3]\n",
        " return round(tp/(tp+fp), 3)\n",
        " \n",
        "\n",
        "def as_recall(results):\n",
        " tp = results[0] #variable names for easier readability\n",
        " tn = results[1]\n",
        " fp = results[2]\n",
        " fn = results[3]\n",
        " return round(tp/(tp+fn), 3)\n",
        "\n",
        "def as_f1(results):\n",
        "  p = as_precision(results)\n",
        "  r = as_recall(results)\n",
        "  return round( (2 * p * r ) / ( p + r ), 3)\n",
        "\n",
        "def get_all_stat_measures(results):\n",
        "  return {\"Accuracy\" : as_accuracy(results), \"Precision\" : as_precision(results), \"Recall\" : as_recall(results), \"F1\" : as_f1(results)} #using dictionary since it'll be easier to fetch these values for Q5\n",
        "\n",
        "\n",
        "get_all_stat_measures(top_10_results)"
      ]
    },
    {
      "cell_type": "markdown",
      "metadata": {
        "id": "0gHYwj0i50Ry"
      },
      "source": [
        "---\n",
        "I believe, for this data set, accuracy alone is a measure that can be used to evaluate classifier performance, as accuracy gives a ratio of what documents have been correctly classified.\n",
        "\n",
        "My reasoning for this conclusion is that the training and testing datasets that have been provided to me are balanced, with a 50/50 split of positive and negative sentiment documents.\n",
        "\n",
        "\n",
        "If the data sets were unbalanced, I would be much more likely to recommend using F1 score, a combined measure of Precision and Recall, to evaluate my classifier's performance.\n",
        "\n",
        "I would do this because accuracy only works as a good evaluator if the data is balanced.\n",
        "\n",
        "Feeding unbalanced testing data, as an extreme example, 98% positive & 2% negative testing dataset, into a classifier that guesses that all reviews are positive would achieve 0.98 accuracy; giving a false sense of 'achievement' in regards to the classifier's performance. \n",
        "\n",
        "In a situation like this, using F1 score (made up of precision and recall) would be more suitable, as precision and recall would consider the impact that false positives and false negatives have.\n",
        "\n",
        "\n",
        "But, since the data I have been given is split in a 50/50 manner, I believe accuracy is a suitable measure for evaluating classifier performance.\n",
        "\n",
        "---\n"
      ]
    },
    {
      "cell_type": "markdown",
      "metadata": {
        "id": "LIS9UpmJNEAp"
      },
      "source": [
        "4) \n",
        "a)  **Construct** a Naive Bayes classifier (e.g., from NLTK).\n",
        "\n",
        "b)  **Compare** the performance of your word list classifier with the Naive Bayes classifier.  **Discuss** your results. \n",
        "\n",
        "[12.5\\%]"
      ]
    },
    {
      "cell_type": "code",
      "execution_count": 45,
      "metadata": {
        "id": "hG4DSeqD50Rz",
        "colab": {
          "base_uri": "https://localhost:8080/",
          "height": 295
        },
        "outputId": "8dfb2f0f-67f8-41b3-b1e9-2444459b7c72"
      },
      "outputs": [
        {
          "output_type": "display_data",
          "data": {
            "text/plain": [
              "<Figure size 432x288 with 1 Axes>"
            ],
            "image/png": "[encoded data removed]"
          },
          "metadata": {
            "needs_background": "light"
          }
        }
      ],
      "source": [
        "from nltk import NaiveBayesClassifier \n",
        "import nltk.metrics\n",
        "import collections\n",
        "from nltk.metrics.scores import (precision, recall, f_measure)\n",
        "import numpy as np\n",
        "\n",
        "##invoking NB classifier from nltk\n",
        "naive_bayes_classifier = nltk.NaiveBayesClassifier.train(training_norm)\n",
        "\n",
        "\n",
        "\n",
        "\n",
        "\n",
        "##Fetching NB measures\n",
        "\n",
        "predictions, gold_labels = collections.defaultdict(set), collections.defaultdict(set)\n",
        "\n",
        "for i, (features, label) in enumerate(testing_norm):\n",
        "    predictions[naive_bayes_classifier.classify(features)].add(i)\n",
        "    gold_labels[label].add(i) \n",
        "\n",
        "\n",
        "nb_accuracy = nltk.classify.accuracy(naive_bayes_classifier, testing_norm)\n",
        "wl_accuracy = as_accuracy(top_10_results)\n",
        "\n",
        "nb_precision = precision(gold_labels[label], predictions[label])\n",
        "wl_precision = as_precision(top_10_results)\n",
        "\n",
        "nb_recall = recall(gold_labels[label], predictions[label])\n",
        "wl_recall = as_recall(top_10_results)\n",
        "\n",
        "nb_f1 = f_measure(gold_labels[label], predictions[label])\n",
        "wl_f1 = as_f1(top_10_results)\n",
        "\n",
        "\n",
        "\n",
        "#NB first, WL second\n",
        "\n",
        "nb = [nb_accuracy, nb_precision, nb_recall, nb_f1]\n",
        "wl = [wl_accuracy, wl_precision, wl_recall, wl_f1]\n",
        "\n",
        "\n",
        "bar_accuracy = [nb_accuracy, wl_accuracy]\n",
        "bar_precision = [nb_precision, wl_precision]\n",
        "bar_recall = [nb_recall, wl_recall]\n",
        "bar_f1 = [nb_f1, wl_f1]\n",
        "\n",
        "##Graph stuff\n",
        "\n",
        "labels = ['Accuracy','Precision','Recall','F1']\n",
        "  \n",
        "X_axis = np.arange(len(labels))\n",
        "  \n",
        "plt.bar(X_axis - 0.2, nb, 0.4, label = 'Naive bayes')\n",
        "plt.bar(X_axis + 0.2, wl, 0.4, label = 'Word List')\n",
        "  \n",
        "plt.xticks(X_axis, labels)\n",
        "plt.xlabel(\"Measures\")\n",
        "plt.ylabel(\"Score\")\n",
        "plt.title(\"Scores of Naive bayes vs. Word List for each Measure\")\n",
        "plt.legend()\n",
        "plt.show()\n",
        "\n"
      ]
    },
    {
      "cell_type": "code",
      "execution_count": null,
      "metadata": {
        "id": "56_oD8ET50Rz"
      },
      "outputs": [],
      "source": []
    },
    {
      "cell_type": "markdown",
      "metadata": {
        "id": "xfuYer9U50Rz"
      },
      "source": [
        "---\n",
        "The output of my code shows a bar chart of four different measures (Accuracy, Precision, Recall, and F1) of classifier score for NLTK's Naive Bayes Classifier, and the wordlist classifier I made. (hencefourth referred to as NB and WLC respectively.)\n",
        "\n",
        "###Accuracy\n",
        "Accuracy between the two classifiers is very similar at 0.65 & 0.58 for NB and WLC respectively, From this I'm able to conclude that both wordlists are able to correctly identify the majority of documents provided.\n",
        "\n",
        "<br>\n",
        "\n",
        "###Precision & Recall\n",
        "NB has a  high precision value and low recall value of 0.96 & 0.31 respectively. This indicates that NB is strict when it comes to classifying a document as positive, leading to many false negatives but very little false positives.   \n",
        "\n",
        "On the other hand, WLC has a low precision value and high recall value of 0.55 and 0.93 respectively. This indicates that WLC is much more likely to label a document as positive rather than negative, leading to a high number of false positives.\n",
        "\n",
        "\n",
        "###F1 Score\n",
        "\n",
        "F1 score works well as a general evaluation of each classifier. WL Has a higher F1 score of 0.69 than NB, which has an F1 score of 0.47. \n",
        "\n",
        "Given that F1 score is a combination of both Prescision and Recall which measures the overall performance of the classifier, I believe WL should be classed as the better 'general' classifier. \n",
        "\n",
        "\n",
        "\n",
        "\n",
        "\n",
        "###Conclusion\n",
        "The results of this show that NB and WLC may be more suitable for different applications. NB is more 'careful' with what it labels as positive which means that whatever is classified as positive is likely to actually be positive, meaning NB can be applied where data accuracy is imporatant.\n",
        "\n",
        "Whereas WL is more 'forgiving', meaining it could be more suitable for positively classifying reviews where the sentiment is unclear.  \n",
        "\n",
        "\n",
        "\n",
        "\n",
        "\n",
        "---"
      ]
    },
    {
      "cell_type": "markdown",
      "metadata": {
        "id": "LGDXaVDqOSfY"
      },
      "source": [
        "5) \n",
        "a) Design and **carry out an experiment** into the impact of the **length of the wordlists** on the wordlist classifier.  Make sure you **describe** design decisions in your experiment, include a **graph** of your results and **discuss** your conclusions. \n",
        "\n",
        "b) Would you **recommend** a wordlist classifier or a Naive Bayes classifier for future work in this area?  **Justify** your answer.\n",
        "\n",
        "[25\\%]\n"
      ]
    },
    {
      "cell_type": "code",
      "execution_count": 46,
      "metadata": {
        "id": "9tBhqZtw50R1",
        "colab": {
          "base_uri": "https://localhost:8080/",
          "height": 903
        },
        "outputId": "105b75e4-22cf-4847-8456-0295c9745e76"
      },
      "outputs": [
        {
          "output_type": "stream",
          "name": "stdout",
          "text": [
            "------------------------------------------------------------\n"
          ]
        },
        {
          "output_type": "display_data",
          "data": {
            "text/plain": [
              "<Figure size 432x288 with 1 Axes>"
            ],
            "image/png": "[encoded data removed]"
          },
          "metadata": {
            "needs_background": "light"
          }
        },
        {
          "output_type": "stream",
          "name": "stdout",
          "text": [
            "------------------------------------------------------------\n"
          ]
        },
        {
          "output_type": "display_data",
          "data": {
            "text/plain": [
              "<Figure size 432x288 with 1 Axes>"
            ],
            "image/png": "[encoded data removed]"
          },
          "metadata": {
            "needs_background": "light"
          }
        },
        {
          "output_type": "stream",
          "name": "stdout",
          "text": [
            "------------------------------------------------------------\n"
          ]
        },
        {
          "output_type": "display_data",
          "data": {
            "text/plain": [
              "<Figure size 432x288 with 1 Axes>"
            ],
            "image/png": "[encoded data removed]"
          },
          "metadata": {
            "needs_background": "light"
          }
        }
      ],
      "source": [
        "def experiment(index_counts,offset): \n",
        " data_for_table = []\n",
        " \n",
        " for num in index_counts:\n",
        "  data_for_table.append(get_all_stat_measures(get_stats(testing_data,num,offset)))\n",
        " \n",
        " \n",
        " accuracy_list = [statset.get(\"Accuracy\") for statset in data_for_table]\n",
        " precision_list = [statset.get(\"Precision\") for statset in data_for_table]\n",
        " recall_list = [statset.get(\"Recall\") for statset in data_for_table]\n",
        " f1_list = [statset.get(\"F1\") for statset in data_for_table]\n",
        "\n",
        " #Table stuff\n",
        " data = {\n",
        "  \"Accuracy\": accuracy_list,\n",
        "  \"Precision\": precision_list,\n",
        "  \"Recall\": recall_list,\n",
        "  \"F1\": f1_list \n",
        " }\n",
        "\n",
        "\n",
        " df = pd.DataFrame(data, index = index_counts)\n",
        " df.index.name = \"Word Count\"\n",
        "\n",
        " print(\"------------------------------------------------------------\")\n",
        "\n",
        "\n",
        "\n",
        " \n",
        " plt.plot(index_counts, accuracy_list, label = \"Accuracy\", marker = '.')\n",
        " plt.plot(index_counts, precision_list, label = \"Precision\", marker = '.')\n",
        " plt.plot(index_counts, recall_list, label = \"Recall\", marker = '.')\n",
        " plt.plot(index_counts, f1_list, label = \"F1\", marker = '.')\n",
        "\n",
        " plt.xlabel(\"Word List Length\")\n",
        " plt.ylabel(\"Score\")\n",
        " plt.title(\"Performance Measure Score changes based off of word list length | offset {}\".format(offset) )\n",
        " plt.legend()\n",
        " plt.show()\n",
        "\n",
        "experiment([1,2,3,4,5,6,7,8,9,10],0)\n",
        "experiment([10,20,30,40,50,60,70,80,90,100,110,120,130,140,150],0)\n",
        "experiment([50,100,150,200,250,300,350,400],0)\n",
        "\n"
      ]
    },
    {
      "cell_type": "code",
      "execution_count": null,
      "metadata": {
        "id": "J1ozKYMa50R1"
      },
      "outputs": [],
      "source": []
    },
    {
      "cell_type": "code",
      "execution_count": null,
      "metadata": {
        "id": "vzN_HIuC50R1"
      },
      "outputs": [],
      "source": []
    },
    {
      "cell_type": "markdown",
      "metadata": {
        "id": "nYZVd15L50R2"
      },
      "source": [
        "---\n",
        "#<u><b>Part A </u></b>\n",
        " \n",
        "##<u>Overview</u>\n",
        " \n",
        "I intend to carry out this experiment by collecting data by using a function that I've written and analysing its output. I will go into more detail about the methodology further into this report.\n",
        " \n",
        "##<u>Hypothesis</u>\n",
        "I Hypothesise that small wordlist lengths (1-10) will have fairly erratic scores due to the classifier not having enough words to properly classify reviews, with most reviews getting a sentiment score of only ±1. \n",
        " \n",
        "These are 'unconfident' classifications that will give a large number of false positives and negatives, leading to lower scores across all measures for small list lengths.\n",
        " \n",
        "<br>\n",
        " \n",
        " \n",
        "I believe medium and large list lengths will get higher scores as the classifier will be able to use these longer word lists to have more  sentiment scores that deviate further from the offset value provided, hopefully leading to more confident classifications.   \n",
        " \n",
        " \n",
        "<br>\n",
        " \n",
        "One concern that I do have is that, as the list length gets large (approaching hundreds of words) I think that the data will plateau due to the words being used for sentiment scoring becoming less of an indication of to positive / negative sentiment of a document, but rather just 'training' off of random words from reviews from the training data. These words could be actor names, movie names or just words that are not important for classifying whether a review is positive or negative that weren't removed in normalisation.\n",
        " \n",
        "    \n",
        " \n",
        "##<u>Method</u>\n",
        " \n",
        "I've written a function in the cell above which calculates the Accuracy, Precision, Recall and F1 score of a list of specified wordlist lengths. The function plots the resulting scores onto a line graph for analysis.\n",
        " \n",
        "This function uses several previously written functions that I have rewritten and abstracted so that word lists of any length can be used, rather than just the 10 words that were asked for Question 1.\n",
        " \n",
        "For this experiment, I will input 3 lists to get 3 graphs:\n",
        " \n",
        "-One will be for lists of small sizes, going from 1 to 10.\n",
        " \n",
        "-One will be for lists of medium sizes, going from 10 to 150.\n",
        " \n",
        "-And one will be for lists of large sizes, going from 50 to 400.\n",
        " \n",
        "I hope that these graphs will be able to show the effect that both small, medium and large word list lengths have on the classifier's scores.\n",
        " \n",
        "##<u>Results & Findings</u>\n",
        " \n",
        "###Short List Lengths\n",
        "The results of the short word length list show that, for very small wordlist lengths (1-5), all scoring measures are low (relative to the rest of the data) and are erratic. This result lines up with the predictions that I made in my hypothesis. I still believe that this is because of the 'unconfident classifications'. \n",
        " \n",
        "I also believe that these scores are low because my classifying function was randomly classifying a large amount of the reviews. Many of the reviews would not have any matches with the small wordlists, resulting in a sentiment score of 0. If the sentiment score is 0, the sentiment is randomly picked. This is what I believe causes the initial dip in scores in the first table.\n",
        " \n",
        "###Medium & Large List lengths\n",
        " \n",
        "The results of the Medium & Large List Lengths show a much less erratic set of score values starting from a list length of 20. My Scores are fairly consistent with an interesting spike in Accuracy and F1 score at list length 120. \n",
        " \n",
        "I am surprised to see that the score values plateaued after getting to list length 50, as I expected the data to be more varied and erratic until the list length got larger.\n",
        " \n",
        "I do believe that this plateau occurs for the same reason that I stated in my hypothesis, and I believe that I underestimated how well medium length lists perform.\n",
        " \n",
        " \n",
        "##<u>Conclusion</u>\n",
        "Through my findings, I conclude that, above list length 20, there isn't much variation in scores from wordlist length, with a plateau happening at around length 50.\n",
        " \n",
        " \n",
        "Data from my graphs shows that a wordlist length of around 120 is optimal for a classifier, as that is the length that has the highest Accuracy and F1 values \n",
        " \n",
        "There's a chance that This could just be an anomaly. In future experiments, I would conduct this experiment on many different sets of testing data and calculate a mean of each score for each list length.\n",
        " \n",
        "I believe the reasonings I've provided within my hypothesis are enough to explain the characteristics found in my results.\n",
        " \n",
        "---\n",
        " \n",
        "#**<u>Part B</u>**\n",
        " \n",
        "I think the Naive Bayes classifier is more suitable for general use.\n",
        " \n",
        "The people who have written NLTK's Naive Bayes algorithm are much more experienced with Python and the general subject of NLE.\n",
        "Their classifier is likely far more optimised than the one I have made in this report and has more flexibility when it comes to things that can be done with it.\n",
        "\n",
        "It is a more strict Classifier that more reliably classifies positive documents.\n",
        "\n",
        "\n"
      ]
    },
    {
      "cell_type": "code",
      "execution_count": 50,
      "metadata": {
        "colab": {
          "base_uri": "https://localhost:8080/"
        },
        "id": "34rdlS_iPov6",
        "outputId": "58c7d7e5-d605-46c7-d851-182993581c6c"
      },
      "outputs": [
        {
          "output_type": "stream",
          "name": "stdout",
          "text": [
            "Drive already mounted at /content/drive; to attempt to forcibly remount, call drive.mount(\"/content/drive\", force_remount=True).\n",
            "Submission length is 1996\n"
          ]
        }
      ],
      "source": [
        "##This code will word count all of the markdown cells in the notebook saved at filepath\n",
        "##Running it before providing any answers shows that the questions have a word count of 437\n",
        "\n",
        "import io\n",
        "from nbformat import current\n",
        "\n",
        "from google.colab import drive\n",
        "drive.mount('/content/drive')\n",
        "\n",
        "filepath=\"/content/drive/My Drive/University/Google CoLab/Coursework/NLassignment2022.ipynb\"\n",
        "question_count=437\n",
        "\n",
        "with io.open(filepath, 'r', encoding='utf-8') as f:\n",
        "    nb = current.read(f, 'json')\n",
        "\n",
        "word_count = 0\n",
        "for cell in nb.worksheets[0].cells:\n",
        "    if cell.cell_type == \"markdown\":\n",
        "        word_count += len(cell['source'].replace('#', '').lstrip().split(' '))\n",
        "print(\"Submission length is {}\".format(word_count-question_count))"
      ]
    },
    {
      "cell_type": "code",
      "execution_count": 49,
      "metadata": {
        "id": "PtqCcG6wPsmf"
      },
      "outputs": [],
      "source": []
    }
  ],
  "metadata": {
    "colab": {
      "provenance": [],
      "collapsed_sections": []
    },
    "kernelspec": {
      "display_name": "Python 3",
      "language": "python",
      "name": "python3"
    },
    "language_info": {
      "codemirror_mode": {
        "name": "ipython",
        "version": 3
      },
      "file_extension": ".py",
      "mimetype": "text/x-python",
      "name": "python",
      "nbconvert_exporter": "python",
      "pygments_lexer": "ipython3",
      "version": "3.7.4"
    }
  },
  "nbformat": 4,
  "nbformat_minor": 0
}